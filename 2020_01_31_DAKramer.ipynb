{
 "cells": [
  {
   "cell_type": "markdown",
   "metadata": {},
   "source": [
    "# Population level changes in Toronto and Vancouver at the neighbourhood level\n",
    "\n",
    "Canada's housing marking is characterized by an affordability crisis. Prices have more than tripled in Vancouver and Toronto over the past twenty years. The year of COVID has been a disturbing case in point: both cities have housing price indices (HPIs) that are more than X% higher than the start of the year, despite the fact that Canada has experienced its largest contraction of economic activity since the Great Depression (X% GDP decline). International organization like the IMF has expression CONCERN at high level of house prices in Canada and their impact on financial stability. \n",
    "\n",
    "The economic drivers behind the skyrocketing housing market are not that complicated, although there is [debate](https://bioeconometrician.github.io/supplymatters/) around which factors are the most important. On the demand side, housing has become an attractive investment due to: \n",
    "\n",
    "1. Tax benefits (most famously, the exemption of capital gains on the sale of a primary residence)[[^1]]\n",
    "2. Foreign investment (Canada is seen as a political stable jurisdiction and is especially popular with Chinese investors)\n",
    "3. Government subsidies (including a literal [equity stake](https://www.placetocallhome.ca/fthbi/first-time-homebuyer-incentive) available from the [CMHC](https://en.wikipedia.org/wiki/Canada_Mortgage_and_Housing_Corporation))[[^2]]\n",
    "4. Regulations that prevent the development of new housing (i.e. future expectations about supply)\n",
    "5. Ultra-low mortgage interest rates\n",
    "6. Existing capital gains in home equity\n",
    "\n",
    "The main supply-side factor is that is illegal to build medium- to high-density housing on the majority of residentially zoned land in Toronto and Vancouver. Oft-cited geographical constraints such as the Pacific Ocean, North Shore mountains, [Agricultural Land Reserve](https://www.alc.gov.bc.ca/alc/content/alr-maps), or the [Green Belt](https://en.wikipedia.org/wiki/Greenbelt_(Golden_Horseshoe)) are distractions to the real issue. I recently [reviewed](https://bioeconometrician.github.io/house_divided/) *House Divided*, a book which discusses the the regulatory reasons behind the \"missing\" low- to medium-density housing structures that are absent in Toronto. The problem of regulatory constraints is not a Toronto-specific problem. A virtually [identical](https://www.youtube.com/watch?v=cjWs7dqaWfY&ab_channel=AboutHere) problem exists in Vancouver. The political economy of Toronto and Vancouver has settled into an equilibrium that is acceptable to wealthy private landholders and developers: high-rise development will occur on a tiny percentage of the land, with the majority of residential land preserving its historic \"character\". \n",
    "\n",
    "While reading this book, ... SAY SOMETHING NICE ABOUT KRAMER\n",
    "\n",
    "\n",
    "Few quick notes:\n",
    "\n",
    "1. We are dealing with CMA information for Toronto & Vancouver\n",
    "2. The 2016 data is redundant in aggregate population counts (i.e. v1 == v2)\n",
    "3. \n"
   ]
  },
  {
   "cell_type": "markdown",
   "metadata": {},
   "source": [
    "## (1) Overview\n",
    "\n",
    "\n",
    "The dataset I have contains 9 censuses, starting in 1971 and going to 2016, with the census occurring every fifth year, except for 1976, to which I do not have any data for. Each file contains the aggregate population for the Toronto and Vancouver census metropolitan areas ([CMA](https://www150.statcan.gc.ca/n1/pub/92-195-x/2011001/geo/cma-rmr/def-eng.htm)). For example, in 2016 the Toronto CMA was around 5.9 million individuals, with the city of Toronto accounting for a little less than half of this number.[[^1]] Other cities with more than 300K individuals in the Toronto CMA are Mississauga, Bramptom, Markham, and Vaughan. \n",
    "\n",
    "Unlike my other posts, I'm not going to show most of the code needed to recreate this analysis because of the work is just doing data processing and transformation. However the github repo used to generate these results can be found [here](https://github.com/ErikinBC/DAKramer). However, a few sanity checks were performed to ensure minimal data quality.\n",
    "\n",
    "1. No duplicate DA measurements for a given city/year\n",
    "2. \n",
    "\n"
   ]
  },
  {
   "cell_type": "markdown",
   "metadata": {},
   "source": [
    "## (2) Summary statistics\n",
    "\n",
    "Over the 9 censuses there are a total of 7516 and 3440 unique DAs in Toronto and Vancouver, respectively. While the DA measurements are consistent between years (e.g. they represent the same geographical area), they are not consistently measured across years. Many of the new DAs correspond to areas that either had no measurements previously, or could not be properly calculated. Because I received that data as is, I cannot say for sure what the factors driving this discrepancy are. Figure 2 below shows that later census years tend to be largely complete, in terms of neighbourhood measurements. "
   ]
  },
  {
   "cell_type": "markdown",
   "metadata": {},
   "source": [
    "<p><img src=\"figures/gg_n_miss.png\" width=60%></p>\n",
    "<center><h3>Figure 1: Test</h3></center>"
   ]
  },
  {
   "cell_type": "markdown",
   "metadata": {},
   "source": []
  },
  {
   "cell_type": "markdown",
   "metadata": {},
   "source": [
    "HOW DOES MY DAs break down by city ???!?!"
   ]
  },
  {
   "cell_type": "markdown",
   "metadata": {},
   "source": []
  },
  {
   "cell_type": "markdown",
   "metadata": {},
   "source": []
  },
  {
   "cell_type": "markdown",
   "metadata": {},
   "source": [
    "### Footnotes\n",
    "\n",
    "[^1]: There are many other benefits that come from purchasing real estate including i) sales tax rebates on new homes, ii) first-time homebuyers tax credits, iii) using from from your RRSP to make a downpayment, and iv) deductions that can be made against rental income. \n",
    "\n",
    "[^2]: See this [report](http://neighbourhoodchange.ca/documents/2014/09/clayton-2010-subsidies-owners-and-renters.pdf) for a list of the some of the subsidies provided by the government to homeowners. \n",
    "\n",
    "[^3]: The city of \"Toronto\" is itself an [amalgamation](https://en.wikipedia.org/wiki/Amalgamation_of_Toronto#1998_amalgamation) of several large cities including North York, Scarborough, and Etibocoke. "
   ]
  }
 ],
 "metadata": {
  "kernelspec": {
   "display_name": "Python 3",
   "language": "python",
   "name": "python3"
  },
  "language_info": {
   "codemirror_mode": {
    "name": "ipython",
    "version": 3
   },
   "file_extension": ".py",
   "mimetype": "text/x-python",
   "name": "python",
   "nbconvert_exporter": "python",
   "pygments_lexer": "ipython3",
   "version": "3.7.6"
  }
 },
 "nbformat": 4,
 "nbformat_minor": 4
}
