{
 "cells": [
  {
   "cell_type": "markdown",
   "metadata": {},
   "source": [
    "# Population level changes in Toronto and Vancouver at the neighbourhood level\n",
    "\n",
    "Canada's housing marking is characterized by an affordability crisis. Prices have more than tripled in Vancouver and Toronto over the past twenty years. The year of COVID has been a disturbing case in point: both cities have housing price indices (HPIs) that are more than X% higher than the start of the year, despite the fact that Canada has experienced its largest contraction of economic activity since the Great Depression (X% GDP decline). International organization like the IMF has expression CONCERN at high level of house prices in Canada and their impact on financial stability. \n",
    "\n",
    "The economic drivers behind the skyrocketing housing market are not that complicated, although there is [debate](https://bioeconometrician.github.io/supplymatters/) around which factors are the most important. On the demand side, housing has become an attractive investment due to: \n",
    "\n",
    "1. Tax benefits (most famously, the exemption of capital gains on the sale of a primary residence)[[^1]]\n",
    "2. Foreign investment (Canada is seen as a political stable jurisdiction and is especially popular with Chinese investors)\n",
    "3. Government subsidies (including a literal [equity stake](https://www.placetocallhome.ca/fthbi/first-time-homebuyer-incentive) available from the [CMHC](https://en.wikipedia.org/wiki/Canada_Mortgage_and_Housing_Corporation))[[^2]]\n",
    "4. Regulations that prevent the development of new housing (i.e. future expectations about supply)\n",
    "5. Ultra-low mortgage interest rates\n",
    "6. Existing capital gains in home equity\n",
    "\n",
    "The main supply-side factor is that is illegal to build medium- to high-density housing on the majority of residentially zoned land in Toronto and Vancouver. Oft-cited geographical constraints such as the Pacific Ocean, North Shore mountains, [Agricultural Land Reserve](https://www.alc.gov.bc.ca/alc/content/alr-maps), or the [Green Belt](https://en.wikipedia.org/wiki/Greenbelt_(Golden_Horseshoe)) are distractions to the real issue. I recently [reviewed](https://bioeconometrician.github.io/house_divided/) *House Divided*, a book which discusses the the regulatory reasons behind the \"missing\" low- to medium-density housing structures that are absent in Toronto. The problem of regulatory constraints is not a Toronto-specific problem. A virtually [identical](https://www.youtube.com/watch?v=cjWs7dqaWfY&ab_channel=AboutHere) problem exists in Vancouver. The political economy of Toronto and Vancouver has settled into an equilibrium that is acceptable to wealthy private landholders and developers: high-rise development will occur on a tiny percentage of the land, with the majority of residential land preserving its historic \"character\". \n",
    "\n",
    "While reading this book, ... SAY SOMETHING NICE ABOUT KRAMER... USE GOOGLE BOOKS TO GET PICTURE OF MAP\n",
    "\n",
    "DESCRIBE DIFFERENCE BETWEEN DAS AND POSTAL CODES\n"
   ]
  },
  {
   "cell_type": "markdown",
   "metadata": {},
   "source": [
    "## (1) Data overview\n",
    "\n",
    "The dataset I have access to contains 9 censuses, starting in 1971 and going to 2016, with the census occurring every fifth year, except for 1976, which is unavailable. Each file contains the aggregate population for the Toronto and Vancouver census metropolitan areas ([CMA](https://www150.statcan.gc.ca/n1/pub/92-195-x/2011001/geo/cma-rmr/def-eng.htm)). For example, in 2016 the Toronto CMA was around 5.9 million individuals, with the city of Toronto accounting for a little less than half of this number.[[^1]] The other cities in the Toronto CMA that have a population exceeding 300K are Mississauga, Bramptom, Markham, and Vaughan. This first section will analyze the key challenges and considerations that were used when analyzing the data.\n",
    "\n",
    "Unlike my other posts, I'm not going to show the code needed to recreate this analysis for two reasons. First, most of the code is fairly uninformative and is largely data processing and transformation. Second, I cannot easily upload the datasets needed to recapitulate this analysis. However, if you are interested in getting access to the data contact either myself or Dr. Kramer. For those who are interested in the code, the github repo used to generate these results can be found [here](https://github.com/ErikinBC/DAKramer). \n",
    "\n",
    "Over the 9 censuses there are a total of 7516 and 3440 unique DAs in Toronto and Vancouver, respectively. While any DAs found between census years are consistent in the sense that they correspond to the same geographic boundary, many DAs are missing, especially for early census years. \n",
    "\n",
    "<center><h3>Figure 2: Number of missing DAs by census</h3></center>\n",
    "<p><img src=\"figures/gg_n_DA.png\" width=50%></p>\n",
    "\n",
    "Figure 2 shows that the number of DAs roughly doubled from 1971 to 2016 in Vancouver and Toronto. The main reason for this is that the amount of residential and inhabited land in these cities has been growing over time. As development pressure has increased, industrial parks have been converted into condos and green field sites have been developed in residential communities. "
   ]
  },
  {
   "cell_type": "markdown",
   "metadata": {},
   "source": [
    "<center><h3>Figure 3: Churn in DAs</h3></center>\n",
    "<center><p><img src=\"figures/gg_DA_delta.png\" width=60%/></p></center>\n",
    "\n",
    "Of course DAs can also be \"lost\" between census years if that area is redeveloped to a non-residential purpose. However, for most of the past 45 years, the ratio of newly created DAs to lost DAs is at least 5:1 as Figure 3 shows. The large increase in neighbourhood formation in Toronto and Vancouver effectively ended in 2001. \n",
    "\n",
    "What are some of examples of DAs that no longer exist? I spot checked the few cases (8) of DAs that no longer had population between the 2011 and 2016 census using Google maps. In one instance the area had become a parking lot and associated commercial buildings, in another, it was a sprawling mall complex (that had grown I presume), and in the third case, a new area of construction in Regent Park.[[^4]]. "
   ]
  },
  {
   "cell_type": "markdown",
   "metadata": {},
   "source": [
    "<center><h3>Figure 4: No one lives here anymore...</h3></center>\n",
    "\n",
    "<table><tr>\n",
    "<td> <img src=\"figures/da1.jpg\" alt=\"Drawing\" style=\"width: 250px;\"/> </td>\n",
    "<td> <img src=\"figures/da2.jpg\" alt=\"Drawing\" style=\"width: 250px;\"/> </td>\n",
    "<td> <img src=\"figures/da3.jpg\" alt=\"Drawing\" style=\"width: 250px;\"/> </td>\n",
    "</tr></table>\n",
    "\n",
    "To better understand the overlap in neighbourhoods over time, the pairwise similarity of DAs between census years can be calculated using the [Jaccard Index](https://en.wikipedia.org/wiki/Jaccard_index), which is the ratio of the intersection over the union."
   ]
  },
  {
   "cell_type": "markdown",
   "metadata": {},
   "source": [
    "<center><h3>Figure 5: Jaccard similarity between censuses </h3></center>\n",
    "<p><img src=\"figures/gg_pair.png\" width=60%></p>\n",
    "\n",
    "With the addition of so many DAs over time in both CMAs, the earlier census years are only comparable for around 60-80% of neighbourhoods."
   ]
  },
  {
   "cell_type": "markdown",
   "metadata": {},
   "source": [
    "One final data issue to note is that there is a discrepancy between between the aggregate census count of the CMA and the population total over all DAs, especially for the early census years.\n",
    "\n",
    "<center><h4>Figure 6: Data discrepancies in total population count </h4></center>\n",
    "<p><img src=\"figures/gg_pop_err.png\" width=50% /></p>\n",
    "\n",
    "The sum of the DAs is slightly less that the total count, ranging from 3% in Vancouver in 1971 to effectively 0% in the two most recent censuses for both cities (Figure 6). I am not sure why there is discrepancy but given its (relatively) small size, it is unlike to impact any of the following analysis."
   ]
  },
  {
   "cell_type": "markdown",
   "metadata": {},
   "source": [
    "## (2) Population growth decomposition\n",
    "\n",
    "Since 1971 the populations of the Toronto and Vancouver CMAs have more than doubled, meaning these cities have led growth in the country of Canada, which has a grown a more modest 63% in this period. From a demographic perspective, two factors influence the size of any city: natural population growth and net migration. I suspect that the latter has accounted for most of these cities population increases. \n",
    "\n",
    "<center><h4>Figure 7: Historical population growth </h4></center>\n",
    "<p><img src=\"figures/gg_pop_hist.png\" width=60% /></p>\n",
    "\n",
    "However this post is interested in a more interesting geographical question: how much have these cities grown due to new neighbourhood formation as opposed to increases in density? As Kramer's figure at the start of this post showed, many neighbourhoods have lost population (i.e. have become less dense). If this is the case, how has the distribution of density gains/losses changed over time? \n",
    "Even if the net density has increased, what is the distribution of this change?\n",
    "\n",
    "Figure 3 shows that from 1971 to 2001 there was significant increases in the number of DAs in both cities. But Figure 7 shows fairly consistent increases in the population over time. *Prima facie*, this would suggest the initial population increases in Toronto and Vancouver were driven by new neighbourhood formation, where the 2001-2016 period was mainly increasing densification of existing neighbourhoods. "
   ]
  },
  {
   "cell_type": "markdown",
   "metadata": {},
   "source": [
    "Assuming that missing DAs have a population of zero, then by picking an index year we can see whether the neighbourhoods in that index year, on net, grew over time. Figure 8 below calculates the counterfactual scenario for all index years leading up to 2016.\n",
    "\n",
    "<center><h4>Figure 8: Counterfactual population growth </h4></center>\n",
    "<p><img src=\"figures/gg_idx.png\" width=60% /></p>\n",
    "\n",
    "For most of the census years, the population growth from existing neighbourhoods has been lower than the overall CMA's growth rate. Although there is noticeable timing discrepancy between Toronto and Vancouver in this regard. For Vancouver, as Figure 8 shows, the percentage increase in the population from existing DAs starting is 1996 is roughly equivalent to the overall population growth of the city. In contrast for Toronto, only in 2006 does population growth for existing DAs match the overally population. Somewhat shockingly, the 3885 DAs measured in Toronto in 1971 have, on net, seen no population growth over than last 45 years!\n"
   ]
  },
  {
   "cell_type": "markdown",
   "metadata": {},
   "source": [
    "Next, looking at the actual data we can see how much densification of existing neighbourhoods versus new neighbourhood formation was responsible for the increase in population across populations.\n",
    "\n",
    "<center><h4>Figure 9: Decomposition of CMA population growth </h4></center>\n",
    "<p><img src=\"figures/gg_decompose.png\" width=60% /></p>\n",
    "\n",
    "As expected, most of Toronto's population growth until 2006 has been driven by the formation of new housing developments whereas most of the population gains for the Vancouver CMA since 1991 have been through increasing densification of existing DAs."
   ]
  },
  {
   "cell_type": "markdown",
   "metadata": {},
   "source": [
    "## (3) Distribution of density changes"
   ]
  },
  {
   "cell_type": "markdown",
   "metadata": {},
   "source": [
    "## (4) But which \"Vancouver\" and \"Toronto\"?\n",
    "\n",
    "i.e. is it Surrey, North York, etc? And how has the densification changes varied within these regions (this is where using the Toronto-specific column could be useful breaking up the amalgation)"
   ]
  },
  {
   "cell_type": "markdown",
   "metadata": {},
   "source": [
    "## (5) Maps"
   ]
  },
  {
   "cell_type": "markdown",
   "metadata": {},
   "source": [
    "### Footnotes\n",
    "\n",
    "[^1]: There are many other benefits that come from purchasing real estate including i) sales tax rebates on new homes, ii) first-time homebuyers tax credits, iii) using from from your RRSP to make a downpayment, and iv) deductions that can be made against rental income. \n",
    "\n",
    "[^2]: See this [report](http://neighbourhoodchange.ca/documents/2014/09/clayton-2010-subsidies-owners-and-renters.pdf) for a list of the some of the subsidies provided by the government to homeowners. \n",
    "\n",
    "[^3]: The city of \"Toronto\" is itself an [amalgamation](https://en.wikipedia.org/wiki/Amalgamation_of_Toronto#1998_amalgamation) of several large cities including North York, Scarborough, and Etibocoke. \n",
    "\n",
    "[^4]: The following three locations have a DA-associated latitude/longitude of (43.708770 -79.342280), (43.77781, -79.34432), and (43.661352 -79.359624) respectively. "
   ]
  }
 ],
 "metadata": {
  "kernelspec": {
   "display_name": "Python 3",
   "language": "python",
   "name": "python3"
  },
  "language_info": {
   "codemirror_mode": {
    "name": "ipython",
    "version": 3
   },
   "file_extension": ".py",
   "mimetype": "text/x-python",
   "name": "python",
   "nbconvert_exporter": "python",
   "pygments_lexer": "ipython3",
   "version": "3.7.6"
  }
 },
 "nbformat": 4,
 "nbformat_minor": 4
}
